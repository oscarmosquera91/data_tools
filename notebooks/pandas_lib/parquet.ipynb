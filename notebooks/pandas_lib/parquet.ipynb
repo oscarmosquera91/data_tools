{
 "cells": [
  {
   "cell_type": "code",
   "execution_count": 2,
   "id": "f66ebb19",
   "metadata": {},
   "outputs": [
    {
     "name": "stdout",
     "output_type": "stream",
     "text": [
      "    pIdOK  pIdHomologated                SolvingDate\n",
      "0  314099          625622 2025-01-31 22:00:32.883333\n",
      "1  314099          364579 2025-01-31 22:00:32.883333\n",
      "2  314099          649790 2025-01-31 22:00:32.883333\n",
      "3  314099          744165 2025-01-31 22:00:32.883333\n",
      "4  314099          481309 2025-01-31 22:00:32.883333\n"
     ]
    }
   ],
   "source": [
    "import pandas as pd\n",
    "\n",
    "# Leer un archivo Parquet con pandas\n",
    "df_parquet = pd.read_parquet(\"data/ProductsHomologate.parquet\")\n",
    "\n",
    "print(df_parquet.head())"
   ]
  }
 ],
 "metadata": {
  "kernelspec": {
   "display_name": "Python 3 (ipykernel)",
   "language": "python",
   "name": "python3"
  },
  "language_info": {
   "codemirror_mode": {
    "name": "ipython",
    "version": 3
   },
   "file_extension": ".py",
   "mimetype": "text/x-python",
   "name": "python",
   "nbconvert_exporter": "python",
   "pygments_lexer": "ipython3",
   "version": "3.11.6"
  }
 },
 "nbformat": 4,
 "nbformat_minor": 5
}
