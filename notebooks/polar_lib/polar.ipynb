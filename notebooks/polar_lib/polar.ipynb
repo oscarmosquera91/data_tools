{
 "cells": [
  {
   "cell_type": "markdown",
   "id": "7fed4448",
   "metadata": {},
   "source": [
    "## Prueba de Estrés: Comparación de Tiempos de Carga entre Pandas y Polars\n",
    "\n",
    "En este experimento se realiza una prueba de estrés para comparar el rendimiento de las librerías **Pandas** y **Polars** al cargar un archivo CSV grande en memoria.\n",
    "\n",
    "Objetivo\n",
    "El objetivo de esta prueba es comparar el rendimiento de ambas librerías en la tarea de carga de datos masivos, identificando cuál ofrece mayor velocidad y eficiencia en este escenario de análisis de datos a gran escala.\n",
    "\n",
    "Nota: Polars suele ser significativamente más rápido y eficiente en uso de memoria que Pandas para operaciones de lectura y procesamiento de grandes volúmenes de datos. ````\n",
    "\n",
    "### 1. Generación del Dataset\n",
    "\n",
    "Primero, se crea un dataset sintético con **10 millones de filas** y múltiples columnas que simulan datos reales (id, timestamp, edad, género, país, ciudad, producto, precio, cantidad, total, método de pago y estado). Este dataset se guarda como `large_dataset.csv`.\n"
   ]
  },
  {
   "cell_type": "code",
   "execution_count": 3,
   "id": "3678a116",
   "metadata": {},
   "outputs": [
    {
     "name": "stdout",
     "output_type": "stream",
     "text": [
      "Dataset de 10 millones de filas creado y guardado como 'large_dataset.csv'.\n"
     ]
    }
   ],
   "source": [
    "import pandas as pd\n",
    "import numpy as np\n",
    "\n",
    "n = 10000000  # 10 millones de filas\n",
    "df = pd.DataFrame({\n",
    "    'id': np.arange(n),\n",
    "    'timestamp': pd.date_range(start='2023-01-01', periods=n, freq='T'),    \n",
    "    'age': np.random.randint(18, 70, size=n),\n",
    "    'gender': np.random.choice(['M', 'F'], size=n),\n",
    "    'country': np.random.choice(['USA', 'Canada', 'Mexico'], size=n),\n",
    "    'city': np.random.choice(['New York', 'Los Angeles', 'Chicago', 'Houston', 'Phoenix'], size=n),\n",
    "    'product': np.random.choice(['Laptop', 'Smartphone', 'Tablet', 'Monitor', 'Keyboard'], size=n),\n",
    "    'price': np.random.uniform(100, 1000, size=n).round(2),\n",
    "    'quantity': np.random.randint(1, 10, size=n),\n",
    "    'total': lambda x: (x['price'] * x['quantity']).round(2),\n",
    "    'payment_method': np.random.choice(['Credit Card', 'PayPal', 'Bank Transfer'], size=n),\n",
    "    'status': np.random.choice(['Completed', 'Pending', 'Cancelled'], size=n)\n",
    "})\n",
    "\n",
    "df.to_csv(\"large_dataset.csv\", index=False)\n",
    "print(\"Dataset de 10 millones de filas creado y guardado como 'large_dataset.csv'.\")\n",
    "\n",
    "\n"
   ]
  },
  {
   "cell_type": "markdown",
   "id": "61817fb8",
   "metadata": {},
   "source": [
    "2. Medición del Tiempo de Carga con Pandas\n",
    "Se mide el tiempo que tarda Pandas en leer el archivo CSV:"
   ]
  },
  {
   "cell_type": "code",
   "execution_count": 4,
   "id": "f6771ce7-7f76-42a7-893e-a321cbca11cc",
   "metadata": {
    "scrolled": true
   },
   "outputs": [
    {
     "name": "stdout",
     "output_type": "stream",
     "text": [
      "Tiempo de carga de pandas: 48.54202461242676 segundos\n"
     ]
    }
   ],
   "source": [
    "import pandas as pd\n",
    "import time\n",
    "start_time = time.time()\n",
    "df_pandas = pd.read_csv(\"large_dataset.csv\")\n",
    "end_time = time.time()\n",
    "print(f\"Tiempo de carga de pandas: {end_time - start_time} segundos\")"
   ]
  },
  {
   "cell_type": "markdown",
   "id": "c7e9176e",
   "metadata": {},
   "source": [
    "3. Medición del Tiempo de Carga con Polars\n",
    "Se mide el tiempo que tarda Polars en leer el mismo archivo CSV:"
   ]
  },
  {
   "cell_type": "code",
   "execution_count": 5,
   "id": "54fa83f7-4b8a-4b8a-93e6-c28ce8d1380a",
   "metadata": {},
   "outputs": [
    {
     "name": "stdout",
     "output_type": "stream",
     "text": [
      "Tiempo de carga de polars: 112.72804594039917 segundos\n"
     ]
    }
   ],
   "source": [
    "import polars as pl\n",
    "start_time = time.time()\n",
    "df_polars = pl.read_csv(\"large_dataset.csv\")\n",
    "end_time = time.time()\n",
    "print(f\"Tiempo de carga de polars: {end_time - start_time} segundos\")"
   ]
  }
 ],
 "metadata": {
  "kernelspec": {
   "display_name": "Python 3 (ipykernel)",
   "language": "python",
   "name": "python3"
  },
  "language_info": {
   "codemirror_mode": {
    "name": "ipython",
    "version": 3
   },
   "file_extension": ".py",
   "mimetype": "text/x-python",
   "name": "python",
   "nbconvert_exporter": "python",
   "pygments_lexer": "ipython3",
   "version": "3.11.6"
  }
 },
 "nbformat": 4,
 "nbformat_minor": 5
}
